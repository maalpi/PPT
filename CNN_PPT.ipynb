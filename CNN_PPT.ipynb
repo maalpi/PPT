{
  "cells": [
    {
      "cell_type": "markdown",
      "metadata": {
        "id": "view-in-github",
        "colab_type": "text"
      },
      "source": [
        "<a href=\"https://colab.research.google.com/github/maalpi/rede-neural-ppt/blob/main/CNN_PPT.ipynb\" target=\"_parent\"><img src=\"https://colab.research.google.com/assets/colab-badge.svg\" alt=\"Open In Colab\"/></a>"
      ]
    },
    {
      "cell_type": "markdown",
      "metadata": {
        "id": "fUfgNSKiGjFB"
      },
      "source": [
        "\n",
        "# <center>__CNN Pedra, Papel ou Tesoura__</center>\n"
      ]
    },
    {
      "cell_type": "markdown",
      "metadata": {
        "id": "h0QiDc3IZ7GF"
      },
      "source": [
        "# ***Instalando as bibliotecas***"
      ]
    },
    {
      "cell_type": "code",
      "execution_count": null,
      "metadata": {
        "colab": {
          "base_uri": "https://localhost:8080/"
        },
        "id": "NaKAR2sipgck",
        "outputId": "6055e43a-e172-4cb4-e2e8-13d0f2fc8b8f"
      },
      "outputs": [
        {
          "output_type": "stream",
          "name": "stdout",
          "text": [
            "Requirement already satisfied: flask_cors in /usr/local/lib/python3.10/dist-packages (5.0.0)\n",
            "Requirement already satisfied: Flask>=0.9 in /usr/local/lib/python3.10/dist-packages (from flask_cors) (2.2.5)\n",
            "Requirement already satisfied: Werkzeug>=2.2.2 in /usr/local/lib/python3.10/dist-packages (from Flask>=0.9->flask_cors) (3.0.4)\n",
            "Requirement already satisfied: Jinja2>=3.0 in /usr/local/lib/python3.10/dist-packages (from Flask>=0.9->flask_cors) (3.1.4)\n",
            "Requirement already satisfied: itsdangerous>=2.0 in /usr/local/lib/python3.10/dist-packages (from Flask>=0.9->flask_cors) (2.2.0)\n",
            "Requirement already satisfied: click>=8.0 in /usr/local/lib/python3.10/dist-packages (from Flask>=0.9->flask_cors) (8.1.7)\n",
            "Requirement already satisfied: MarkupSafe>=2.0 in /usr/local/lib/python3.10/dist-packages (from Jinja2>=3.0->Flask>=0.9->flask_cors) (2.1.5)\n",
            "Requirement already satisfied: flask-ngrok in /usr/local/lib/python3.10/dist-packages (0.0.25)\n",
            "Requirement already satisfied: Flask>=0.8 in /usr/local/lib/python3.10/dist-packages (from flask-ngrok) (2.2.5)\n",
            "Requirement already satisfied: requests in /usr/local/lib/python3.10/dist-packages (from flask-ngrok) (2.32.3)\n",
            "Requirement already satisfied: Werkzeug>=2.2.2 in /usr/local/lib/python3.10/dist-packages (from Flask>=0.8->flask-ngrok) (3.0.4)\n",
            "Requirement already satisfied: Jinja2>=3.0 in /usr/local/lib/python3.10/dist-packages (from Flask>=0.8->flask-ngrok) (3.1.4)\n",
            "Requirement already satisfied: itsdangerous>=2.0 in /usr/local/lib/python3.10/dist-packages (from Flask>=0.8->flask-ngrok) (2.2.0)\n",
            "Requirement already satisfied: click>=8.0 in /usr/local/lib/python3.10/dist-packages (from Flask>=0.8->flask-ngrok) (8.1.7)\n",
            "Requirement already satisfied: charset-normalizer<4,>=2 in /usr/local/lib/python3.10/dist-packages (from requests->flask-ngrok) (3.3.2)\n",
            "Requirement already satisfied: idna<4,>=2.5 in /usr/local/lib/python3.10/dist-packages (from requests->flask-ngrok) (3.10)\n",
            "Requirement already satisfied: urllib3<3,>=1.21.1 in /usr/local/lib/python3.10/dist-packages (from requests->flask-ngrok) (2.2.3)\n",
            "Requirement already satisfied: certifi>=2017.4.17 in /usr/local/lib/python3.10/dist-packages (from requests->flask-ngrok) (2024.8.30)\n",
            "Requirement already satisfied: MarkupSafe>=2.0 in /usr/local/lib/python3.10/dist-packages (from Jinja2>=3.0->Flask>=0.8->flask-ngrok) (2.1.5)\n",
            "Requirement already satisfied: pyngrok in /usr/local/lib/python3.10/dist-packages (7.2.0)\n",
            "Requirement already satisfied: PyYAML>=5.1 in /usr/local/lib/python3.10/dist-packages (from pyngrok) (6.0.2)\n",
            "Requirement already satisfied: tensorflow in /usr/local/lib/python3.10/dist-packages (2.17.0)\n",
            "Requirement already satisfied: absl-py>=1.0.0 in /usr/local/lib/python3.10/dist-packages (from tensorflow) (1.4.0)\n",
            "Requirement already satisfied: astunparse>=1.6.0 in /usr/local/lib/python3.10/dist-packages (from tensorflow) (1.6.3)\n",
            "Requirement already satisfied: flatbuffers>=24.3.25 in /usr/local/lib/python3.10/dist-packages (from tensorflow) (24.3.25)\n",
            "Requirement already satisfied: gast!=0.5.0,!=0.5.1,!=0.5.2,>=0.2.1 in /usr/local/lib/python3.10/dist-packages (from tensorflow) (0.6.0)\n",
            "Requirement already satisfied: google-pasta>=0.1.1 in /usr/local/lib/python3.10/dist-packages (from tensorflow) (0.2.0)\n",
            "Requirement already satisfied: h5py>=3.10.0 in /usr/local/lib/python3.10/dist-packages (from tensorflow) (3.11.0)\n",
            "Requirement already satisfied: libclang>=13.0.0 in /usr/local/lib/python3.10/dist-packages (from tensorflow) (18.1.1)\n",
            "Requirement already satisfied: ml-dtypes<0.5.0,>=0.3.1 in /usr/local/lib/python3.10/dist-packages (from tensorflow) (0.4.1)\n",
            "Requirement already satisfied: opt-einsum>=2.3.2 in /usr/local/lib/python3.10/dist-packages (from tensorflow) (3.3.0)\n",
            "Requirement already satisfied: packaging in /usr/local/lib/python3.10/dist-packages (from tensorflow) (24.1)\n",
            "Requirement already satisfied: protobuf!=4.21.0,!=4.21.1,!=4.21.2,!=4.21.3,!=4.21.4,!=4.21.5,<5.0.0dev,>=3.20.3 in /usr/local/lib/python3.10/dist-packages (from tensorflow) (3.20.3)\n",
            "Requirement already satisfied: requests<3,>=2.21.0 in /usr/local/lib/python3.10/dist-packages (from tensorflow) (2.32.3)\n",
            "Requirement already satisfied: setuptools in /usr/local/lib/python3.10/dist-packages (from tensorflow) (71.0.4)\n",
            "Requirement already satisfied: six>=1.12.0 in /usr/local/lib/python3.10/dist-packages (from tensorflow) (1.16.0)\n",
            "Requirement already satisfied: termcolor>=1.1.0 in /usr/local/lib/python3.10/dist-packages (from tensorflow) (2.4.0)\n",
            "Requirement already satisfied: typing-extensions>=3.6.6 in /usr/local/lib/python3.10/dist-packages (from tensorflow) (4.12.2)\n",
            "Requirement already satisfied: wrapt>=1.11.0 in /usr/local/lib/python3.10/dist-packages (from tensorflow) (1.16.0)\n",
            "Requirement already satisfied: grpcio<2.0,>=1.24.3 in /usr/local/lib/python3.10/dist-packages (from tensorflow) (1.64.1)\n",
            "Requirement already satisfied: tensorboard<2.18,>=2.17 in /usr/local/lib/python3.10/dist-packages (from tensorflow) (2.17.0)\n",
            "Requirement already satisfied: keras>=3.2.0 in /usr/local/lib/python3.10/dist-packages (from tensorflow) (3.4.1)\n",
            "Requirement already satisfied: tensorflow-io-gcs-filesystem>=0.23.1 in /usr/local/lib/python3.10/dist-packages (from tensorflow) (0.37.1)\n",
            "Requirement already satisfied: numpy<2.0.0,>=1.23.5 in /usr/local/lib/python3.10/dist-packages (from tensorflow) (1.26.4)\n",
            "Requirement already satisfied: wheel<1.0,>=0.23.0 in /usr/local/lib/python3.10/dist-packages (from astunparse>=1.6.0->tensorflow) (0.44.0)\n",
            "Requirement already satisfied: rich in /usr/local/lib/python3.10/dist-packages (from keras>=3.2.0->tensorflow) (13.8.1)\n",
            "Requirement already satisfied: namex in /usr/local/lib/python3.10/dist-packages (from keras>=3.2.0->tensorflow) (0.0.8)\n",
            "Requirement already satisfied: optree in /usr/local/lib/python3.10/dist-packages (from keras>=3.2.0->tensorflow) (0.12.1)\n",
            "Requirement already satisfied: charset-normalizer<4,>=2 in /usr/local/lib/python3.10/dist-packages (from requests<3,>=2.21.0->tensorflow) (3.3.2)\n",
            "Requirement already satisfied: idna<4,>=2.5 in /usr/local/lib/python3.10/dist-packages (from requests<3,>=2.21.0->tensorflow) (3.10)\n",
            "Requirement already satisfied: urllib3<3,>=1.21.1 in /usr/local/lib/python3.10/dist-packages (from requests<3,>=2.21.0->tensorflow) (2.2.3)\n",
            "Requirement already satisfied: certifi>=2017.4.17 in /usr/local/lib/python3.10/dist-packages (from requests<3,>=2.21.0->tensorflow) (2024.8.30)\n",
            "Requirement already satisfied: markdown>=2.6.8 in /usr/local/lib/python3.10/dist-packages (from tensorboard<2.18,>=2.17->tensorflow) (3.7)\n",
            "Requirement already satisfied: tensorboard-data-server<0.8.0,>=0.7.0 in /usr/local/lib/python3.10/dist-packages (from tensorboard<2.18,>=2.17->tensorflow) (0.7.2)\n",
            "Requirement already satisfied: werkzeug>=1.0.1 in /usr/local/lib/python3.10/dist-packages (from tensorboard<2.18,>=2.17->tensorflow) (3.0.4)\n",
            "Requirement already satisfied: MarkupSafe>=2.1.1 in /usr/local/lib/python3.10/dist-packages (from werkzeug>=1.0.1->tensorboard<2.18,>=2.17->tensorflow) (2.1.5)\n",
            "Requirement already satisfied: markdown-it-py>=2.2.0 in /usr/local/lib/python3.10/dist-packages (from rich->keras>=3.2.0->tensorflow) (3.0.0)\n",
            "Requirement already satisfied: pygments<3.0.0,>=2.13.0 in /usr/local/lib/python3.10/dist-packages (from rich->keras>=3.2.0->tensorflow) (2.18.0)\n",
            "Requirement already satisfied: mdurl~=0.1 in /usr/local/lib/python3.10/dist-packages (from markdown-it-py>=2.2.0->rich->keras>=3.2.0->tensorflow) (0.1.2)\n",
            "Requirement already satisfied: rembg in /usr/local/lib/python3.10/dist-packages (2.0.59)\n",
            "Requirement already satisfied: jsonschema in /usr/local/lib/python3.10/dist-packages (from rembg) (4.23.0)\n",
            "Requirement already satisfied: numpy in /usr/local/lib/python3.10/dist-packages (from rembg) (1.26.4)\n",
            "Requirement already satisfied: onnxruntime in /usr/local/lib/python3.10/dist-packages (from rembg) (1.19.2)\n",
            "Requirement already satisfied: opencv-python-headless in /usr/local/lib/python3.10/dist-packages (from rembg) (4.10.0.84)\n",
            "Requirement already satisfied: pillow in /usr/local/lib/python3.10/dist-packages (from rembg) (10.4.0)\n",
            "Requirement already satisfied: pooch in /usr/local/lib/python3.10/dist-packages (from rembg) (1.8.2)\n",
            "Requirement already satisfied: pymatting in /usr/local/lib/python3.10/dist-packages (from rembg) (1.1.12)\n",
            "Requirement already satisfied: scikit-image in /usr/local/lib/python3.10/dist-packages (from rembg) (0.24.0)\n",
            "Requirement already satisfied: scipy in /usr/local/lib/python3.10/dist-packages (from rembg) (1.13.1)\n",
            "Requirement already satisfied: tqdm in /usr/local/lib/python3.10/dist-packages (from rembg) (4.66.5)\n",
            "Requirement already satisfied: attrs>=22.2.0 in /usr/local/lib/python3.10/dist-packages (from jsonschema->rembg) (24.2.0)\n",
            "Requirement already satisfied: jsonschema-specifications>=2023.03.6 in /usr/local/lib/python3.10/dist-packages (from jsonschema->rembg) (2023.12.1)\n",
            "Requirement already satisfied: referencing>=0.28.4 in /usr/local/lib/python3.10/dist-packages (from jsonschema->rembg) (0.35.1)\n",
            "Requirement already satisfied: rpds-py>=0.7.1 in /usr/local/lib/python3.10/dist-packages (from jsonschema->rembg) (0.20.0)\n",
            "Requirement already satisfied: coloredlogs in /usr/local/lib/python3.10/dist-packages (from onnxruntime->rembg) (15.0.1)\n",
            "Requirement already satisfied: flatbuffers in /usr/local/lib/python3.10/dist-packages (from onnxruntime->rembg) (24.3.25)\n",
            "Requirement already satisfied: packaging in /usr/local/lib/python3.10/dist-packages (from onnxruntime->rembg) (24.1)\n",
            "Requirement already satisfied: protobuf in /usr/local/lib/python3.10/dist-packages (from onnxruntime->rembg) (3.20.3)\n",
            "Requirement already satisfied: sympy in /usr/local/lib/python3.10/dist-packages (from onnxruntime->rembg) (1.13.3)\n",
            "Requirement already satisfied: platformdirs>=2.5.0 in /usr/local/lib/python3.10/dist-packages (from pooch->rembg) (4.3.6)\n",
            "Requirement already satisfied: requests>=2.19.0 in /usr/local/lib/python3.10/dist-packages (from pooch->rembg) (2.32.3)\n",
            "Requirement already satisfied: numba!=0.49.0 in /usr/local/lib/python3.10/dist-packages (from pymatting->rembg) (0.60.0)\n",
            "Requirement already satisfied: networkx>=2.8 in /usr/local/lib/python3.10/dist-packages (from scikit-image->rembg) (3.3)\n",
            "Requirement already satisfied: imageio>=2.33 in /usr/local/lib/python3.10/dist-packages (from scikit-image->rembg) (2.35.1)\n",
            "Requirement already satisfied: tifffile>=2022.8.12 in /usr/local/lib/python3.10/dist-packages (from scikit-image->rembg) (2024.9.20)\n",
            "Requirement already satisfied: lazy-loader>=0.4 in /usr/local/lib/python3.10/dist-packages (from scikit-image->rembg) (0.4)\n",
            "Requirement already satisfied: llvmlite<0.44,>=0.43.0dev0 in /usr/local/lib/python3.10/dist-packages (from numba!=0.49.0->pymatting->rembg) (0.43.0)\n",
            "Requirement already satisfied: charset-normalizer<4,>=2 in /usr/local/lib/python3.10/dist-packages (from requests>=2.19.0->pooch->rembg) (3.3.2)\n",
            "Requirement already satisfied: idna<4,>=2.5 in /usr/local/lib/python3.10/dist-packages (from requests>=2.19.0->pooch->rembg) (3.10)\n",
            "Requirement already satisfied: urllib3<3,>=1.21.1 in /usr/local/lib/python3.10/dist-packages (from requests>=2.19.0->pooch->rembg) (2.2.3)\n",
            "Requirement already satisfied: certifi>=2017.4.17 in /usr/local/lib/python3.10/dist-packages (from requests>=2.19.0->pooch->rembg) (2024.8.30)\n",
            "Requirement already satisfied: humanfriendly>=9.1 in /usr/local/lib/python3.10/dist-packages (from coloredlogs->onnxruntime->rembg) (10.0)\n",
            "Requirement already satisfied: mpmath<1.4,>=1.1.0 in /usr/local/lib/python3.10/dist-packages (from sympy->onnxruntime->rembg) (1.3.0)\n",
            "Requirement already satisfied: Flask in /usr/local/lib/python3.10/dist-packages (2.2.5)\n",
            "Requirement already satisfied: Werkzeug>=2.2.2 in /usr/local/lib/python3.10/dist-packages (from Flask) (3.0.4)\n",
            "Requirement already satisfied: Jinja2>=3.0 in /usr/local/lib/python3.10/dist-packages (from Flask) (3.1.4)\n",
            "Requirement already satisfied: itsdangerous>=2.0 in /usr/local/lib/python3.10/dist-packages (from Flask) (2.2.0)\n",
            "Requirement already satisfied: click>=8.0 in /usr/local/lib/python3.10/dist-packages (from Flask) (8.1.7)\n",
            "Requirement already satisfied: MarkupSafe>=2.0 in /usr/local/lib/python3.10/dist-packages (from Jinja2>=3.0->Flask) (2.1.5)\n",
            "Requirement already satisfied: Pillow in /usr/local/lib/python3.10/dist-packages (10.4.0)\n",
            "Requirement already satisfied: pyngrok in /usr/local/lib/python3.10/dist-packages (7.2.0)\n",
            "Requirement already satisfied: PyYAML>=5.1 in /usr/local/lib/python3.10/dist-packages (from pyngrok) (6.0.2)\n",
            "Requirement already satisfied: imutils in /usr/local/lib/python3.10/dist-packages (0.5.4)\n"
          ]
        }
      ],
      "source": [
        "!pip install flask_cors\n",
        "!pip install flask-ngrok\n",
        "!pip install pyngrok\n",
        "!pip install tensorflow\n",
        "!pip install rembg\n",
        "!pip install Flask\n",
        "!pip install Pillow\n",
        "!pip install --upgrade pyngrok\n",
        "!pip install --upgrade imutils\n",
        "\n"
      ]
    },
    {
      "cell_type": "markdown",
      "metadata": {
        "id": "GgKRQh8mHZVE"
      },
      "source": [
        "# ***Baixando os arquivos***"
      ]
    },
    {
      "cell_type": "markdown",
      "metadata": {
        "id": "VlgCAsYAHdtc"
      },
      "source": [
        "> Baixei os dados do **Kagle** em formato zip e hospedei no google drive, o código abaixo apenas faz o download dos arquivos"
      ]
    },
    {
      "cell_type": "code",
      "execution_count": null,
      "metadata": {
        "id": "CJk0WpOR_9sC"
      },
      "outputs": [],
      "source": [
        "import os\n",
        "import zipfile"
      ]
    },
    {
      "cell_type": "code",
      "execution_count": null,
      "metadata": {
        "colab": {
          "base_uri": "https://localhost:8080/"
        },
        "id": "JgfFQxZvZ5uD",
        "outputId": "f192924e-755b-4749-a44e-b1cce5e9907d"
      },
      "outputs": [
        {
          "output_type": "stream",
          "name": "stdout",
          "text": [
            "Requirement already satisfied: gdown in /usr/local/lib/python3.10/dist-packages (5.2.0)\n",
            "Requirement already satisfied: beautifulsoup4 in /usr/local/lib/python3.10/dist-packages (from gdown) (4.12.3)\n",
            "Requirement already satisfied: filelock in /usr/local/lib/python3.10/dist-packages (from gdown) (3.16.1)\n",
            "Requirement already satisfied: requests[socks] in /usr/local/lib/python3.10/dist-packages (from gdown) (2.32.3)\n",
            "Requirement already satisfied: tqdm in /usr/local/lib/python3.10/dist-packages (from gdown) (4.66.5)\n",
            "Requirement already satisfied: soupsieve>1.2 in /usr/local/lib/python3.10/dist-packages (from beautifulsoup4->gdown) (2.6)\n",
            "Requirement already satisfied: charset-normalizer<4,>=2 in /usr/local/lib/python3.10/dist-packages (from requests[socks]->gdown) (3.3.2)\n",
            "Requirement already satisfied: idna<4,>=2.5 in /usr/local/lib/python3.10/dist-packages (from requests[socks]->gdown) (3.10)\n",
            "Requirement already satisfied: urllib3<3,>=1.21.1 in /usr/local/lib/python3.10/dist-packages (from requests[socks]->gdown) (2.2.3)\n",
            "Requirement already satisfied: certifi>=2017.4.17 in /usr/local/lib/python3.10/dist-packages (from requests[socks]->gdown) (2024.8.30)\n",
            "Requirement already satisfied: PySocks!=1.5.7,>=1.5.6 in /usr/local/lib/python3.10/dist-packages (from requests[socks]->gdown) (1.7.1)\n",
            "/usr/local/lib/python3.10/dist-packages/gdown/__main__.py:140: FutureWarning: Option `--id` was deprecated in version 4.3.1 and will be removed in 5.0. You don't need to pass it anymore to use a file ID.\n",
            "  warnings.warn(\n",
            "Downloading...\n",
            "From (original): https://drive.google.com/uc?id=1k3rjkA8lObKyDAQrQyjq0ojZyyw-so6g\n",
            "From (redirected): https://drive.google.com/uc?id=1k3rjkA8lObKyDAQrQyjq0ojZyyw-so6g&confirm=t&uuid=bfd85590-40c6-41ba-99e0-1d7d10d8ce87\n",
            "To: /tmp/pptTrain.zip\n",
            "100% 201M/201M [00:01<00:00, 113MB/s]\n",
            "/usr/local/lib/python3.10/dist-packages/gdown/__main__.py:140: FutureWarning: Option `--id` was deprecated in version 4.3.1 and will be removed in 5.0. You don't need to pass it anymore to use a file ID.\n",
            "  warnings.warn(\n",
            "Downloading...\n",
            "From (original): https://drive.google.com/uc?id=1EHjnOsGzNhP8gmX138wkud9e9GjSQOIr\n",
            "From (redirected): https://drive.google.com/uc?id=1EHjnOsGzNhP8gmX138wkud9e9GjSQOIr&confirm=t&uuid=a1b97373-9bb0-4725-86e1-242bb6a98fe1\n",
            "To: /tmp/pptTest.zip\n",
            "100% 29.5M/29.5M [00:00<00:00, 75.4MB/s]\n"
          ]
        }
      ],
      "source": [
        "!pip install gdown\n",
        "\n",
        "# 'pptTrain.zip' contém os dados de treino e será salvo no diretório temporário ‘/tmp/rps.zip’:\n",
        "!gdown --id 1k3rjkA8lObKyDAQrQyjq0ojZyyw-so6g -O /tmp/pptTrain.zip\n",
        "\n",
        "# 'pptTest' contém os dados de treino e será salvo no diretório temporário ‘/tmp/rps.zip’:\n",
        "!gdown --id 1EHjnOsGzNhP8gmX138wkud9e9GjSQOIr -O /tmp/pptTest.zip\n"
      ]
    },
    {
      "cell_type": "markdown",
      "metadata": {
        "id": "esn7zOeFi4lc"
      },
      "source": [
        "# ***Descompactando os arquivos***"
      ]
    },
    {
      "cell_type": "markdown",
      "metadata": {
        "id": "kFI9fR5wHvlx"
      },
      "source": [
        "> Após o download extraímos os .zip utilizando o zipfile e salvamos na pasta 'tmp' do própio colab"
      ]
    },
    {
      "cell_type": "code",
      "execution_count": null,
      "metadata": {
        "id": "bBxbjIi_ihWI"
      },
      "outputs": [],
      "source": [
        "local_zip = '/tmp/pptTrain.zip' # informamos o diretório onde está o arquivo .zip que baixamos\n",
        "zip_ref = zipfile.ZipFile(local_zip, 'r') # local_zip é o caminho do arquivo e o modo 'r' significa 'read' - queremos ler o arquivo\n",
        "zip_ref.extractall('/tmp/') # extrai todos os arquivos de zip_ref e grava-os no diretório '/tmp/'\n",
        "zip_ref.close() # fecha o arquivo zip_ref. Você deve chamar close() antes de sair do seu programa ou registros essenciais não serão gravados\n",
        "\n",
        "local_zip = '/tmp/pptTest.zip'\n",
        "zip_ref = zipfile.ZipFile(local_zip, 'r')\n",
        "zip_ref.extractall('/tmp/')\n",
        "zip_ref.close()\n"
      ]
    },
    {
      "cell_type": "code",
      "execution_count": null,
      "metadata": {
        "colab": {
          "base_uri": "https://localhost:8080/"
        },
        "id": "mwV5yonVjPOC",
        "outputId": "9f15ea66-cb3b-4724-a304-e8b79c82a0c2"
      },
      "outputs": [
        {
          "output_type": "stream",
          "name": "stdout",
          "text": [
            "total training rock images: 840\n",
            "total training paper images: 840\n",
            "total training scissors images: 840\n",
            "['rock04-078.png', 'rock01-021.png', 'rock04-064.png', 'rock02-030.png', 'rock07-k03-104.png', 'rock01-060.png', 'rock07-k03-079.png', 'rock03-017.png', 'rock06ck02-079.png', 'rock05ck01-047.png']\n",
            "['paper04-014.png', 'paper04-094.png', 'paper07-020.png', 'paper05-014.png', 'paper03-088.png', 'paper06-045.png', 'paper04-058.png', 'paper05-115.png', 'paper01-051.png', 'paper01-111.png']\n",
            "['testscissors02-116.png', 'scissors04-051.png', 'testscissors01-038.png', 'testscissors02-079.png', 'scissors02-066.png', 'testscissors01-010.png', 'scissors04-116.png', 'scissors02-045.png', 'testscissors03-112.png', 'testscissors01-042.png']\n"
          ]
        }
      ],
      "source": [
        "\n",
        "rock_files = os.listdir('/tmp/pptTrain/rock') # definimos 'rock_files' como um vetor com todos os nomes dos arquivos da pasta 'rock'\n",
        "paper_files = os.listdir('/tmp/pptTrain/paper')\n",
        "scissors_files = os.listdir('/tmp/pptTrain/scissors')\n",
        "\n",
        "print('total training rock images:', len(rock_files)) # apenas para visualizarmos o tamanho do vetor 'rock_files'\n",
        "print('total training paper images:', len(paper_files))\n",
        "print('total training scissors images:', len(scissors_files))\n",
        "\n",
        "print(rock_files[:10]) # para visualizarmos as 10 primeiras entradas do vetor 'rock_files'\n",
        "print(paper_files[:10])\n",
        "print(scissors_files[:10])"
      ]
    },
    {
      "cell_type": "code",
      "execution_count": null,
      "metadata": {
        "colab": {
          "base_uri": "https://localhost:8080/"
        },
        "id": "5T2R1fEJFeCA",
        "outputId": "36c55bb3-296f-4ea5-c35e-172b0451ce83"
      },
      "outputs": [
        {
          "output_type": "stream",
          "name": "stdout",
          "text": [
            "Requirement already satisfied: imutils in /usr/local/lib/python3.10/dist-packages (0.5.4)\n"
          ]
        }
      ],
      "source": [
        "!pip install --upgrade imutils\n"
      ]
    },
    {
      "cell_type": "markdown",
      "metadata": {
        "id": "yU9LsOcwIZrC"
      },
      "source": [
        "### ***Importando as bibliotecas a serem usadas***"
      ]
    },
    {
      "cell_type": "code",
      "execution_count": null,
      "metadata": {
        "colab": {
          "base_uri": "https://localhost:8080/"
        },
        "id": "wvGuLRZ2FiC6",
        "outputId": "c77f7d88-5d1e-4895-943e-94e366134bdd"
      },
      "outputs": [
        {
          "output_type": "stream",
          "name": "stdout",
          "text": [
            "Python version: 3.10.12\n",
            "Tensorflow version: 2.17.0\n",
            "Keras version: 3.4.1\n"
          ]
        }
      ],
      "source": [
        "import tensorflow as tf\n",
        "import tensorflow_datasets as tfds\n",
        "import matplotlib.pyplot as plt\n",
        "import matplotlib.image as mpimg\n",
        "import numpy as np\n",
        "import platform\n",
        "import datetime\n",
        "import math\n",
        "import random\n",
        "\n",
        "from tensorflow.keras.optimizers import RMSprop\n",
        "from tensorflow.keras.preprocessing.image import ImageDataGenerator\n",
        "from google.colab import files\n",
        "from keras.preprocessing import image\n",
        "\n",
        "%matplotlib inline\n",
        "\n",
        "print('Python version:', platform.python_version())\n",
        "print('Tensorflow version:', tf.__version__)\n",
        "print('Keras version:', tf.keras.__version__)"
      ]
    },
    {
      "cell_type": "markdown",
      "metadata": {
        "id": "wjzKxjRhkazH"
      },
      "source": [
        "# ***Plotando uma imagem para teste***"
      ]
    },
    {
      "cell_type": "code",
      "execution_count": null,
      "metadata": {
        "colab": {
          "base_uri": "https://localhost:8080/",
          "height": 435
        },
        "id": "DsPPYaA0jgMS",
        "outputId": "3f447d2f-fb9a-4664-9c79-77860a83066f"
      },
      "outputs": [
        {
          "output_type": "display_data",
          "data": {
            "text/plain": [
              "<Figure size 640x480 with 1 Axes>"
            ],
            "image/png": "[encoded data removed]"
          },
          "metadata": {}
        }
      ],
      "source": [
        "img = mpimg.imread('/tmp/pptTrain/paper/paper01-009.png')\n",
        "plt.imshow(img)\n",
        "plt.axis('On')\n",
        "plt.show()\n"
      ]
    },
    {
      "cell_type": "markdown",
      "metadata": {
        "id": "79NzZmZ6MEyD"
      },
      "source": [
        "# ***KERAS***"
      ]
    },
    {
      "cell_type": "markdown",
      "metadata": {
        "id": "jDwvbWsqMIVV"
      },
      "source": [
        "## Pre-processamento de imagens"
      ]
    },
    {
      "cell_type": "markdown",
      "metadata": {
        "id": "Xv9jlYtWMMQi"
      },
      "source": [
        "> O 'train_datagen' é configurado para aumentar os dados de treinamento aplicando varias transformações como rotação e deslocamento.\n"
      ]
    },
    {
      "cell_type": "code",
      "execution_count": null,
      "metadata": {
        "id": "JqaPf52RkyJz"
      },
      "outputs": [],
      "source": [
        "train_datagen = ImageDataGenerator(\n",
        "    rescale=1./255,       # Normaliza os valores de pixel entre 0 e 1\n",
        "    rotation_range=40,    # Rotaciona aleatoriamente a imagem\n",
        "    width_shift_range=0.2,# Desloca horizontalmente\n",
        "    height_shift_range=0.2,# Desloca verticalmente\n",
        "    shear_range=0.2,      # Aplica corte aleatório\n",
        "    zoom_range=0.2,       # Aplica zoom aleatório\n",
        "    horizontal_flip=True, # Inverte horizontalmente as imagens\n",
        "    fill_mode='nearest'   # Preenche pixels vazios após transformações\n",
        ")\n",
        "\n",
        "\n",
        "test_datagen = ImageDataGenerator(rescale=1./255)"
      ]
    },
    {
      "cell_type": "markdown",
      "metadata": {
        "id": "UKIq4KYvKS7G"
      },
      "source": [
        "1.  **Train-generation:**\n",
        "\n",
        ">  Carrega as imagens do diretório de treinamento, redimensionando-as para 150x150 pixels e embaralha as imagens para melhor generalização durante o treinamento.\n",
        "\n",
        "2.  **Validation_generator:**\n",
        "\n",
        ">  Faz o mesmo para as imagens de validação, mas não embaralha os dados."
      ]
    },
    {
      "cell_type": "code",
      "execution_count": null,
      "metadata": {
        "colab": {
          "base_uri": "https://localhost:8080/"
        },
        "id": "zYCfC_VYkzpa",
        "outputId": "06c8ff2c-fc6c-47b7-d130-c862cc0918d4"
      },
      "outputs": [
        {
          "output_type": "stream",
          "name": "stdout",
          "text": [
            "Found 2520 images belonging to 3 classes.\n",
            "Found 372 images belonging to 3 classes.\n"
          ]
        }
      ],
      "source": [
        "\n",
        "base_dir_pptTrain = '/tmp/pptTrain'\n",
        "base_dir_pptTest = '/tmp/pptTest'\n",
        "\n",
        "train_generator = train_datagen.flow_from_directory(\n",
        "    base_dir_pptTrain,\n",
        "    target_size=(150, 150),\n",
        "    batch_size=32,\n",
        "    shuffle=True\n",
        "    )\n",
        "\n",
        "validation_generator = train_datagen.flow_from_directory(\n",
        "    base_dir_pptTest,\n",
        "    target_size=(150, 150),\n",
        "    batch_size=32,\n",
        "    )"
      ]
    },
    {
      "cell_type": "markdown",
      "metadata": {
        "id": "Pjx01sjzC_4E"
      },
      "source": [
        "# ***Criando modelo de rede neural convolucional (CNN) usando a API `Sequential` do KERAS***\n",
        "> Projetado para classificar imagens em três categorias diferentes(pedra,papel e tesoura)\n",
        "\n",
        "\n",
        "\n",
        "\n"
      ]
    },
    {
      "cell_type": "markdown",
      "metadata": {
        "id": "OmsIlKfrL3a6"
      },
      "source": [
        "## Oque está acontecendo?\n"
      ]
    },
    {
      "cell_type": "markdown",
      "metadata": {
        "id": "aJcniWh1MAWZ"
      },
      "source": [
        "### **1. Camadas convulacionais:**\n",
        "\n",
        "> Bom, primeiramente ele está iniciando as camadas convolucionais que são responsáveis por extrair características das imagens\n",
        "\n",
        "> Cada camada usa a função de ativação ReLU para introduzir não linearidades, o que ajuda o modelo a aprender padrões complexos.\n",
        "\n",
        ">  O número de filtros aumenta gradualmente (32, 64, 128, e 256) para capturar características mais complexas nas imagens à medida que a profundidade da rede aumenta.\n",
        "\n",
        "### **2. Normalização:**\n",
        "\n",
        "> a `BatchNormalization` é aplicada para normalizar a saída da camada anterior, o que pode ajudar a acelerar o treinamento e melhorar a estabilidade do modelo.\n",
        "\n",
        "### **3. Pooling:**\n",
        "\n",
        "> Reduz a dimensionalidade das saídas das camadas convolucionais, preservando as características mais importantes. Isso ajuda a reduzir o número de parâmetros e a evitar overfitting.\n",
        "\n",
        "### **4. Flatten:**\n",
        "\n",
        "> Essa camada pega toda a informação processada pelas camadas anteriores (que ainda está em formato 2D, como se fosse uma imagem) e \"achata\", transformando tudo em uma única linha de números. Isso prepara os dados para as próximas camadas, onde o modelo vai tomar decisões.\n",
        "\n",
        "### **5. Dense:**\n",
        "\n",
        "> Cada neurônio aqui está conectado a todos os neurônios da camada anterior. Ela combina todas as informações para tentar \"entender\" qual é o resultado, como, por exemplo, se a imagem que foi dada ao modelo é de pedra, papel ou tesoura.\n",
        "\n",
        "### **6. Overfitting:**\n",
        "\n",
        "> É usado o `Dropout` para reduzir o overfitting, desligando aleatoriamente 50% dos neurônios durante o treinamento."
      ]
    },
    {
      "cell_type": "code",
      "execution_count": null,
      "metadata": {
        "colab": {
          "base_uri": "https://localhost:8080/"
        },
        "id": "s_KZ0XdnltZd",
        "outputId": "ce125155-6da9-4bbd-dcac-2786ca367151"
      },
      "outputs": [
        {
          "output_type": "stream",
          "name": "stderr",
          "text": [
            "/usr/local/lib/python3.10/dist-packages/keras/src/layers/convolutional/base_conv.py:107: UserWarning: Do not pass an `input_shape`/`input_dim` argument to a layer. When using Sequential models, prefer using an `Input(shape)` object as the first layer in the model instead.\n",
            "  super().__init__(activity_regularizer=activity_regularizer, **kwargs)\n"
          ]
        }
      ],
      "source": [
        "model = tf.keras.models.Sequential([\n",
        "    # Primeira camada de convolução e pooling\n",
        "    tf.keras.layers.Conv2D(32, (3, 3), activation='relu', input_shape=(150, 150, 3)),\n",
        "    tf.keras.layers.BatchNormalization(),\n",
        "    tf.keras.layers.MaxPooling2D(2, 2),\n",
        "\n",
        "    # Segunda camada de convolução e pooling\n",
        "    tf.keras.layers.Conv2D(64, (3, 3), activation='relu'),\n",
        "    tf.keras.layers.BatchNormalization(),\n",
        "    tf.keras.layers.MaxPooling2D(2, 2),\n",
        "\n",
        "    # Terceira camada de convolução e pooling\n",
        "    tf.keras.layers.Conv2D(128, (3, 3), activation='relu'),\n",
        "    tf.keras.layers.BatchNormalization(),\n",
        "    tf.keras.layers.MaxPooling2D(2, 2),\n",
        "\n",
        "    # Quarta camada de convolução e pooling (extra)\n",
        "    tf.keras.layers.Conv2D(256, (3, 3), activation='relu'),\n",
        "    tf.keras.layers.BatchNormalization(),\n",
        "    tf.keras.layers.MaxPooling2D(2, 2),\n",
        "\n",
        "    # Flatten e camadas densas\n",
        "    tf.keras.layers.Flatten(),\n",
        "    tf.keras.layers.Dense(512, activation='relu'),\n",
        "    tf.keras.layers.Dropout(0.5),  # Dropout para evitar overfitting\n",
        "    tf.keras.layers.Dense(3, activation='softmax') # 3 classes no output\n",
        "])\n"
      ]
    },
    {
      "cell_type": "markdown",
      "metadata": {
        "id": "SDQrMAjJMzhR"
      },
      "source": [
        "## MobileNetV2\n",
        "\n",
        "> É um modelo que já foi treinado com milhões de imagens no dataset ImageNet. Ele reaproveita esse conhecimento para o seu projeto, economizando tempo e esforço no treinamento.\n",
        "\n",
        ">  Quando usado em parceria com outros modelos ( como o anterior ) ele exige mais tempo de treinamento e mais recursos computacionais"
      ]
    },
    {
      "cell_type": "code",
      "execution_count": null,
      "metadata": {
        "id": "c7eBq0owZJ09",
        "colab": {
          "base_uri": "https://localhost:8080/"
        },
        "outputId": "425f118f-50a3-4b11-f51b-5459d115ed0a"
      },
      "outputs": [
        {
          "output_type": "stream",
          "name": "stderr",
          "text": [
            "<ipython-input-28-460440b5307f>:3: UserWarning: `input_shape` is undefined or non-square, or `rows` is not in [96, 128, 160, 192, 224]. Weights for input shape (224, 224) will be loaded as the default.\n",
            "  base_model = MobileNetV2(input_shape=(150, 150, 3), include_top=False, weights='imagenet')\n"
          ]
        },
        {
          "output_type": "stream",
          "name": "stdout",
          "text": [
            "Downloading data from https://storage.googleapis.com/tensorflow/keras-applications/mobilenet_v2/mobilenet_v2_weights_tf_dim_ordering_tf_kernels_1.0_224_no_top.h5\n",
            "\u001b[1m9406464/9406464\u001b[0m \u001b[32m━━━━━━━━━━━━━━━━━━━━\u001b[0m\u001b[37m\u001b[0m \u001b[1m0s\u001b[0m 0us/step\n"
          ]
        }
      ],
      "source": [
        "from tensorflow.keras.applications import MobileNetV2\n",
        "\n",
        "base_model = MobileNetV2(input_shape=(150, 150, 3), include_top=False, weights='imagenet')\n",
        "\n",
        "# Freeza as camadas do modelo base\n",
        "base_model.trainable = False\n",
        "\n",
        "model = tf.keras.models.Sequential([\n",
        "    base_model,\n",
        "    tf.keras.layers.GlobalAveragePooling2D(),\n",
        "    tf.keras.layers.Dense(512, activation='relu'),\n",
        "    tf.keras.layers.Dropout(0.5),\n",
        "    tf.keras.layers.Dense(3, activation='softmax')  # 3 classes\n",
        "])"
      ]
    },
    {
      "cell_type": "markdown",
      "metadata": {
        "id": "bZtjqhi9NgDa"
      },
      "source": [
        "## ***Configurando o processo de treinamento do modelo***\n",
        "\n",
        "\n",
        "1.   **Função de perda**:\n",
        "> Definimos a função de perda como categorical crossentropy, que é usada para medir a diferença entre as probabilidades previstas pelo modelo e as categorias reais. Isso é comum em problemas de classificação com mais de duas classes.\n",
        "\n",
        "2.   **Adam**:\n",
        "> Um dos mais populares algoritmos de otimização para ajustar os pesos do modelo de forma eficiente durante o treinamento. Ele é conhecido por ser rápido e por combinar as melhores características de outros otimizadores.\n",
        "\n",
        "3.   **Métricas**:\n",
        "> A métrica escolhida para monitorar o desempenho do modelo é a acurácia.\n",
        "\n"
      ]
    },
    {
      "cell_type": "code",
      "execution_count": null,
      "metadata": {
        "id": "BV3ryV6zlv0u"
      },
      "outputs": [],
      "source": [
        "model.compile(\n",
        "    loss='categorical_crossentropy',\n",
        "    optimizer=tf.keras.optimizers.Adam(),\n",
        "    metrics=['accuracy']\n",
        ")"
      ]
    },
    {
      "cell_type": "markdown",
      "metadata": {
        "id": "n4UFLDLeJrX0"
      },
      "source": [
        "# ***Iniciando o treinamento***"
      ]
    },
    {
      "cell_type": "markdown",
      "metadata": {
        "id": "FAJrUZJ-JtnN"
      },
      "source": [
        "Esse trecho é responsável por **treinar o modelo** utilizando os dados fornecidos e funciona da seguinte maneira:\n",
        "\n",
        "1. **model.fit()**: Essa função inicia o treinamento do modelo, ajustando os pesos internos com base nos dados de treinamento.\n",
        "\n",
        "2. **train_generator**: Este é o gerador de dados de treino, que fornece imagens em lotes (batches) para o modelo aprender. Ele aplica o pré-processamento e a normalização definidos anteriormente.\n",
        "\n",
        "3. **steps_per_epoch**: Define quantos passos (batches) o modelo deve processar antes de considerar que uma \"época\" foi concluída. Isso é calculado dividindo o número total de amostras pelo tamanho do lote (batch size).\n",
        "\n",
        "4. **epochs=20**: Especifica que o modelo será treinado por **20 épocas** (ciclos completos através de todos os dados de treinamento).\n",
        "\n",
        "5. **validation_data**: Os dados de validação são usados para verificar o desempenho do modelo em dados que ele não viu durante o treinamento.\n",
        "\n",
        "6. **validation_steps**: Define quantos batches de validação serão processados a cada época, de forma semelhante a `steps_per_epoch`.\n",
        "\n",
        "7. **verbose=2**: Isso apenas controla o nível de detalhamento da saída que será exibida durante o treinamento. Nesse caso, `verbose=2` significa que será exibido um resumo por época.\n",
        "\n",
        "Resumindo: esse código treina o modelo com os dados de treinamento, por 20 ciclos, avaliando o progresso a cada época com os dados de validação."
      ]
    },
    {
      "cell_type": "code",
      "execution_count": null,
      "metadata": {
        "colab": {
          "base_uri": "https://localhost:8080/"
        },
        "id": "1Vry2kHalyGZ",
        "outputId": "550d8b02-f921-4683-eff9-a7cd99c71db0"
      },
      "outputs": [
        {
          "output_type": "stream",
          "name": "stdout",
          "text": [
            "Epoch 1/20\n"
          ]
        },
        {
          "output_type": "stream",
          "name": "stderr",
          "text": [
            "/usr/local/lib/python3.10/dist-packages/keras/src/trainers/data_adapters/py_dataset_adapter.py:121: UserWarning: Your `PyDataset` class should call `super().__init__(**kwargs)` in its constructor. `**kwargs` can include `workers`, `use_multiprocessing`, `max_queue_size`. Do not pass these arguments to `fit()`, as they will be ignored.\n",
            "  self._warn_if_super_not_called()\n"
          ]
        },
        {
          "output_type": "stream",
          "name": "stdout",
          "text": [
            "78/78 - 49s - 624ms/step - accuracy: 0.8621 - loss: 0.3872 - val_accuracy: 0.8551 - val_loss: 0.4730\n",
            "Epoch 2/20\n"
          ]
        },
        {
          "output_type": "stream",
          "name": "stderr",
          "text": [
            "/usr/lib/python3.10/contextlib.py:153: UserWarning: Your input ran out of data; interrupting training. Make sure that your dataset or generator can generate at least `steps_per_epoch * epochs` batches. You may need to use the `.repeat()` function when building your dataset.\n",
            "  self.gen.throw(typ, value, traceback)\n"
          ]
        },
        {
          "output_type": "stream",
          "name": "stdout",
          "text": [
            "78/78 - 3s - 38ms/step - accuracy: 0.9062 - loss: 0.1431 - val_accuracy: 0.9000 - val_loss: 0.2776\n",
            "Epoch 3/20\n",
            "78/78 - 24s - 305ms/step - accuracy: 0.9670 - loss: 0.0950 - val_accuracy: 0.7983 - val_loss: 0.6382\n",
            "Epoch 4/20\n",
            "78/78 - 0s - 2ms/step - accuracy: 0.9375 - loss: 0.1812 - val_accuracy: 0.8500 - val_loss: 0.4142\n",
            "Epoch 5/20\n",
            "78/78 - 41s - 530ms/step - accuracy: 0.9550 - loss: 0.1094 - val_accuracy: 0.9091 - val_loss: 0.2504\n",
            "Epoch 6/20\n",
            "78/78 - 0s - 2ms/step - accuracy: 0.9688 - loss: 0.1430 - val_accuracy: 0.9500 - val_loss: 0.1642\n",
            "Epoch 7/20\n",
            "78/78 - 22s - 286ms/step - accuracy: 0.9670 - loss: 0.0850 - val_accuracy: 0.9006 - val_loss: 0.2741\n",
            "Epoch 8/20\n",
            "78/78 - 0s - 2ms/step - accuracy: 1.0000 - loss: 0.0207 - val_accuracy: 0.7500 - val_loss: 0.6571\n",
            "Epoch 9/20\n",
            "78/78 - 42s - 536ms/step - accuracy: 0.9823 - loss: 0.0573 - val_accuracy: 0.9290 - val_loss: 0.2437\n",
            "Epoch 10/20\n",
            "78/78 - 0s - 2ms/step - accuracy: 1.0000 - loss: 0.0139 - val_accuracy: 0.9500 - val_loss: 0.1669\n",
            "Epoch 11/20\n",
            "78/78 - 41s - 527ms/step - accuracy: 0.9727 - loss: 0.0695 - val_accuracy: 0.8835 - val_loss: 0.3582\n",
            "Epoch 12/20\n",
            "78/78 - 0s - 2ms/step - accuracy: 1.0000 - loss: 0.0181 - val_accuracy: 0.9500 - val_loss: 0.1461\n",
            "Epoch 13/20\n",
            "78/78 - 24s - 302ms/step - accuracy: 0.9743 - loss: 0.0698 - val_accuracy: 0.8949 - val_loss: 0.2983\n",
            "Epoch 14/20\n",
            "78/78 - 0s - 2ms/step - accuracy: 0.9375 - loss: 0.1517 - val_accuracy: 0.8500 - val_loss: 0.2761\n",
            "Epoch 15/20\n",
            "78/78 - 23s - 297ms/step - accuracy: 0.9811 - loss: 0.0609 - val_accuracy: 0.9176 - val_loss: 0.3068\n",
            "Epoch 16/20\n",
            "78/78 - 0s - 2ms/step - accuracy: 1.0000 - loss: 0.0292 - val_accuracy: 0.9500 - val_loss: 0.1817\n",
            "Epoch 17/20\n",
            "78/78 - 41s - 526ms/step - accuracy: 0.9827 - loss: 0.0477 - val_accuracy: 0.8750 - val_loss: 0.3800\n",
            "Epoch 18/20\n",
            "78/78 - 0s - 2ms/step - accuracy: 1.0000 - loss: 0.0061 - val_accuracy: 0.9500 - val_loss: 0.1240\n",
            "Epoch 19/20\n",
            "78/78 - 23s - 300ms/step - accuracy: 0.9807 - loss: 0.0505 - val_accuracy: 0.9233 - val_loss: 0.2599\n",
            "Epoch 20/20\n",
            "78/78 - 0s - 2ms/step - accuracy: 0.9688 - loss: 0.0302 - val_accuracy: 0.8500 - val_loss: 0.4390\n"
          ]
        },
        {
          "output_type": "execute_result",
          "data": {
            "text/plain": [
              "<keras.src.callbacks.history.History at 0x7bfdb8675cc0>"
            ]
          },
          "metadata": {},
          "execution_count": 30
        }
      ],
      "source": [
        "# TREINAMENTO DO MODELO\n",
        "\n",
        "model.fit(\n",
        "    train_generator,\n",
        "    steps_per_epoch=train_generator.samples // train_generator.batch_size,\n",
        "    epochs=20,\n",
        "    validation_data=validation_generator,\n",
        "    validation_steps=validation_generator.samples // validation_generator.batch_size,\n",
        "    verbose=2)"
      ]
    },
    {
      "cell_type": "markdown",
      "metadata": {
        "id": "lp4plt4dBfxL"
      },
      "source": [
        "# ***Criando a API para receber as requisições com imagem e retornar o vencedor da partida***"
      ]
    },
    {
      "cell_type": "markdown",
      "metadata": {
        "id": "EMt0rsBnIms7"
      },
      "source": [
        "> Utilizamos o Framework Flask para criar uma API que recebe 2 imagens(pedra, papel ou tesoura) e retorna o resultado da partida.\n",
        "\n",
        "> Inicialmente estavamos com problemas com as imagens por conta de terem algo no fundo que dificultava a identificação, por isso tivemos que usar a biblioteca **rembg** para excluir o fundo da imagem e apenas deixar o foco principal\n",
        "\n",
        "> Também utilizamos o rembg para disponibilizar um link da API para ser consumida"
      ]
    },
    {
      "cell_type": "code",
      "execution_count": null,
      "metadata": {
        "id": "5k1xmSRzapC8",
        "colab": {
          "base_uri": "https://localhost:8080/",
          "height": 383
        },
        "outputId": "16f41b42-3cda-4503-9490-705295333ccd"
      },
      "outputs": [
        {
          "output_type": "error",
          "ename": "ModuleNotFoundError",
          "evalue": "No module named 'flask_cors'",
          "traceback": [
            "\u001b[0;31m---------------------------------------------------------------------------\u001b[0m",
            "\u001b[0;31mModuleNotFoundError\u001b[0m                       Traceback (most recent call last)",
            "\u001b[0;32m<ipython-input-1-9849d6b4b408>\u001b[0m in \u001b[0;36m<cell line: 2>\u001b[0;34m()\u001b[0m\n\u001b[1;32m      1\u001b[0m \u001b[0;32mfrom\u001b[0m \u001b[0mflask\u001b[0m \u001b[0;32mimport\u001b[0m \u001b[0mFlask\u001b[0m\u001b[0;34m,\u001b[0m \u001b[0mrequest\u001b[0m\u001b[0;34m,\u001b[0m \u001b[0mjsonify\u001b[0m\u001b[0;34m\u001b[0m\u001b[0;34m\u001b[0m\u001b[0m\n\u001b[0;32m----> 2\u001b[0;31m \u001b[0;32mfrom\u001b[0m \u001b[0mflask_cors\u001b[0m \u001b[0;32mimport\u001b[0m \u001b[0mCORS\u001b[0m\u001b[0;34m\u001b[0m\u001b[0;34m\u001b[0m\u001b[0m\n\u001b[0m\u001b[1;32m      3\u001b[0m \u001b[0;32mfrom\u001b[0m \u001b[0mPIL\u001b[0m \u001b[0;32mimport\u001b[0m \u001b[0mImage\u001b[0m\u001b[0;34m\u001b[0m\u001b[0;34m\u001b[0m\u001b[0m\n\u001b[1;32m      4\u001b[0m \u001b[0;32mimport\u001b[0m \u001b[0mnumpy\u001b[0m \u001b[0;32mas\u001b[0m \u001b[0mnp\u001b[0m\u001b[0;34m\u001b[0m\u001b[0;34m\u001b[0m\u001b[0m\n\u001b[1;32m      5\u001b[0m \u001b[0;32mfrom\u001b[0m \u001b[0mpyngrok\u001b[0m \u001b[0;32mimport\u001b[0m \u001b[0mngrok\u001b[0m\u001b[0;34m\u001b[0m\u001b[0;34m\u001b[0m\u001b[0m\n",
            "\u001b[0;31mModuleNotFoundError\u001b[0m: No module named 'flask_cors'",
            "",
            "\u001b[0;31m---------------------------------------------------------------------------\u001b[0;32m\nNOTE: If your import is failing due to a missing package, you can\nmanually install dependencies using either !pip or !apt.\n\nTo view examples of installing some common dependencies, click the\n\"Open Examples\" button below.\n\u001b[0;31m---------------------------------------------------------------------------\u001b[0m\n"
          ],
          "errorDetails": {
            "actions": [
              {
                "action": "open_url",
                "actionText": "Open Examples",
                "url": "/notebooks/snippets/importing_libraries.ipynb"
              }
            ]
          }
        }
      ],
      "source": [
        "from flask import Flask, request, jsonify\n",
        "from flask_cors import CORS\n",
        "from PIL import Image\n",
        "import numpy as np\n",
        "from pyngrok import ngrok\n",
        "from tensorflow.keras.preprocessing import image\n",
        "from rembg import remove\n",
        "\n",
        "ngrok.set_auth_token(\"2mUNivMv7xY5BerDMfIdjXMUggD_3MeaoABQWcVrtRn6tKhEe\")  # Insira seu token aqui\n",
        "\n",
        "# Inicializa a aplicação Flask\n",
        "app = Flask(__name__)\n",
        "CORS(app, resources={r\"/*\": {\"origins\": \"*\"}})\n",
        "\n",
        "# Inicia o túnel do ngrok\n",
        "public_url = ngrok.connect(5000)\n",
        "print(\"Ngrok URL:\", public_url)  # Imprime a URL do ngrok\n",
        "\n",
        "def process_image(img_path):\n",
        "    print(f\"Processing image: {img_path}\")\n",
        "    imagFundo = 'output.png'\n",
        "    input = Image.open(img_path)\n",
        "    output = remove(input)\n",
        "\n",
        "    output.save(imagFundo)\n",
        "\n",
        "    img = image.load_img(imagFundo, target_size=(150, 150))\n",
        "    x = image.img_to_array(img) / 255.0\n",
        "    x = np.expand_dims(x, axis=0)\n",
        "\n",
        "    images = np.vstack([x])\n",
        "    classes = model.predict(images, batch_size=10)\n",
        "\n",
        "    # Determine the choice based on the predicted classes\n",
        "    if classes[0][0] > 0.3:\n",
        "        choice = 'paper'\n",
        "    elif classes[0][2] > 0.3:\n",
        "        choice = 'scissors'\n",
        "    elif classes[0][1] > 0.5:\n",
        "        choice = 'rock'\n",
        "    else:\n",
        "        choice = 'unknown'\n",
        "\n",
        "    return classes, choice\n",
        "\n",
        "def determine_winner(choice1, choice2):\n",
        "    # Determina o vencedor com base nas escolhas\n",
        "    if choice1 == 'paper' and choice2 == 'rock':\n",
        "        return \"Player 1 wins with paper!\"\n",
        "    elif choice1 == 'rock' and choice2 == 'scissors':\n",
        "        return \"Player 1 wins with rock!\"\n",
        "    elif choice1 == 'scissors' and choice2 == 'paper':\n",
        "        return \"Player 1 wins with scissors!\"\n",
        "    elif choice2 == 'paper' and choice1 == 'rock':\n",
        "        return \"Player 2 wins with paper!\"\n",
        "    elif choice2 == 'rock' and choice1 == 'scissors':\n",
        "        return \"Player 2 wins with rock!\"\n",
        "    elif choice2 == 'scissors' and choice1 == 'paper':\n",
        "        return \"Player 2 wins with scissors!\"\n",
        "    else:\n",
        "        return \"It's a tie!\"\n",
        "\n",
        "@app.route('/play', methods=['POST'])\n",
        "def play():\n",
        "    files = request.files.getlist(\"images\")  # Espera um array de imagens\n",
        "    print('Received files:', files)\n",
        "    if len(files) != 2:\n",
        "        return jsonify({\"error\": \"Please send exactly two images.\"}), 400\n",
        "\n",
        "    results = []\n",
        "    choices = []\n",
        "    for file in files:\n",
        "        img_path = f\"./temp_{file.filename}\"  # Armazena temporariamente\n",
        "        file.save(img_path)  # Salva a imagem\n",
        "        classes, choice = process_image(img_path)\n",
        "        results.append(classes)\n",
        "        choices.append(choice)\n",
        "\n",
        "    print(choices)\n",
        "    winner_message = determine_winner(choices[0], choices[1])\n",
        "    # return jsonify({\"winner\": winner_message, \"choices\": choices})\n",
        "    return jsonify({\"winner\": winner_message})\n",
        "\n",
        "if __name__ == '__main__':\n",
        "    app.run()  # Não use host='0.0.0.0' no Colab\n"
      ]
    },
    {
      "cell_type": "code",
      "execution_count": null,
      "metadata": {
        "id": "OYLR6f8wl4k_"
      },
      "outputs": [],
      "source": [
        "# from PIL import Image\n",
        "# uploaded = files.upload()\n",
        "\n",
        "# for fn in uploaded.keys():\n",
        "\n",
        "#   # predicting images\n",
        "#   path = fn\n",
        "#   imagFundo = 'output.png'\n",
        "#   input = Image.open(path)\n",
        "#   output = remove(input)\n",
        "\n",
        "#   background = Image.new(\"RGBA\", output.size, (0, 255, 0, 255))\n",
        "#   combined = Image.alpha_composite(background, output)\n",
        "\n",
        "#   combined = combined.convert(\"RGB\")\n",
        "#   output.save(imagFundo)\n",
        "\n",
        "\n",
        "#   img = image.load_img(imagFundo, target_size=(150,150))\n",
        "#   imgplot = plt.imshow(img)\n",
        "#   x = image.img_to_array(img) / 255.0\n",
        "#   x = np.expand_dims(x, axis=0)\n",
        "\n",
        "#   images = np.vstack([x])\n",
        "#   classes = model.predict(images, batch_size=10)\n",
        "\n",
        "#   print(fn)\n",
        "#   print(classes)\n",
        "#   if classes[0][0] > 0.3:\n",
        "#     print('paper')\n",
        "#   elif classes[0][2] > 0.3:\n",
        "#       print('scissors')\n",
        "#   elif classes[0][1] > 0.5:\n",
        "#       print('rock')\n",
        "#   else:\n",
        "#       print('unknown')\n"
      ]
    }
  ],
  "metadata": {
    "accelerator": "GPU",
    "colab": {
      "gpuType": "T4",
      "provenance": [],
      "include_colab_link": true
    },
    "kernelspec": {
      "display_name": "Python 3",
      "name": "python3"
    },
    "language_info": {
      "name": "python"
    }
  },
  "nbformat": 4,
  "nbformat_minor": 0
}